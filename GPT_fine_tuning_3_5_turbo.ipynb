{
 "cells": [
  {
   "cell_type": "markdown",
   "metadata": {},
   "source": [
    "# Libraries and Parameters"
   ]
  },
  {
   "cell_type": "code",
   "execution_count": 1,
   "metadata": {},
   "outputs": [],
   "source": [
    "# Setting API Key as environment variable.\n",
    "# API Key was revoked  after running the code. To run the code, replace the \"put_your_api_key_here\" with your API key.\n",
    "import os\n",
    "os.environ['OPENAI_API_KEY'] = \"put_your_api_key_here\""
   ]
  },
  {
   "cell_type": "code",
   "execution_count": 2,
   "metadata": {},
   "outputs": [],
   "source": [
    "from openai import OpenAI# version == 1.14.2\n",
    "client = OpenAI()\n",
    "\n",
    "# Path to the training dataset\n",
    "dataset_file_path = 'training_examples.jsonl'"
   ]
  },
  {
   "cell_type": "markdown",
   "metadata": {},
   "source": [
    "# Functions"
   ]
  },
  {
   "cell_type": "code",
   "execution_count": 10,
   "metadata": {},
   "outputs": [],
   "source": [
    "def upload_file_for_fine_tuning(file_path):\n",
    "    \"\"\"\n",
    "    Uploads a file to OpenAI for fine-tuning.\n",
    "    \n",
    "    Args:\n",
    "        file_path (str): The path to the dataset file.\n",
    "    \n",
    "    Returns:\n",
    "        str: The ID of the uploaded file.\n",
    "    \"\"\"\n",
    "    with open(file_path, 'rb') as file_stream:\n",
    "        response = client.files.create(file=file_stream, purpose='fine-tune')\n",
    "    file_id = response.id\n",
    "    return file_id\n",
    "\n",
    "def check_file_status(file_id):\n",
    "    \"\"\"\n",
    "    Checks the status of an uploaded file.\n",
    "    \n",
    "    Args:\n",
    "        file_id (str): The ID of the uploaded file.\n",
    "    \n",
    "    Returns:\n",
    "        str: The status of the file.\n",
    "    \"\"\"\n",
    "    file_info = client.files.retrieve(file_id)\n",
    "    return file_info.status\n",
    "\n",
    "def fine_tune_model(file_id):\n",
    "    \"\"\"\n",
    "    Initiates the fine-tuning process for a model using an uploaded file.\n",
    "    \n",
    "    Args:\n",
    "        file_id (str): The ID of the uploaded file to use for fine-tuning.\n",
    "    \n",
    "    Returns:\n",
    "        str: The ID of the fine-tuning job.\n",
    "    \"\"\"\n",
    "    response = client.fine_tuning.jobs.create(training_file=file_id, model='gpt-3.5-turbo')\n",
    "    fine_tune_job_id = response.id\n",
    "    return fine_tune_job_id\n",
    "\n",
    "def check_fine_tune_status(fine_tune_job_id):\n",
    "    \"\"\"\n",
    "    Checks the status of a fine-tuning job.\n",
    "    \n",
    "    Args:\n",
    "        fine_tune_job_id (str): The ID of the fine-tuning job.\n",
    "    \n",
    "    Returns:\n",
    "        str: The status of the fine-tuning job.\n",
    "    \"\"\"\n",
    "    fine_tune_info = client.fine_tuning.jobs.retrieve(fine_tune_job_id)\n",
    "    return fine_tune_info.status\n",
    "\n",
    "\n",
    "def generate_response(model_id, prompt):\n",
    "  completion = client.chat.completions.create(\n",
    "    model=model_id,\n",
    "    messages=[\n",
    "      {\"role\": \"system\", \"content\": \"Given your input text, you will generate a response as an overly-aggressive, hyper-sarcastic Reddit commentator.\"},\n",
    "      {\"role\": \"user\", \"content\": prompt}   \n",
    "    ]\n",
    "  )\n",
    "  return completion.choices[0].message.content"
   ]
  },
  {
   "cell_type": "markdown",
   "metadata": {},
   "source": [
    "# Uploading the file"
   ]
  },
  {
   "cell_type": "code",
   "execution_count": 10,
   "metadata": {},
   "outputs": [
    {
     "name": "stdout",
     "output_type": "stream",
     "text": [
      "File uploaded with ID: file-RmSk0TtBdPpayKLQIcYlBFVO\n"
     ]
    }
   ],
   "source": [
    "file_id = upload_file_for_fine_tuning(dataset_file_path)\n",
    "print(f\"File uploaded with ID: {file_id}\")"
   ]
  },
  {
   "cell_type": "code",
   "execution_count": 11,
   "metadata": {},
   "outputs": [
    {
     "name": "stdout",
     "output_type": "stream",
     "text": [
      "File upload status: processed\n"
     ]
    }
   ],
   "source": [
    "# Check the file upload status\n",
    "file_status = check_file_status(file_id)\n",
    "print(f\"File upload status: {file_status}\")"
   ]
  },
  {
   "cell_type": "markdown",
   "metadata": {},
   "source": [
    "# Model Tuning"
   ]
  },
  {
   "cell_type": "code",
   "execution_count": 19,
   "metadata": {},
   "outputs": [
    {
     "name": "stdout",
     "output_type": "stream",
     "text": [
      "Fine-tuning started with ID: ftjob-erryyFQ7q7yUHXaNKub8vLxn\n"
     ]
    }
   ],
   "source": [
    "# Fine-tune the model (note: you need to wait for the fine-tuning process to complete)\n",
    "# Wait for the fine-tuning process to complete before generating predictions\n",
    "fine_tuned_model_id = fine_tune_model(file_id)\n",
    "print(f\"Fine-tuning started with ID: {fine_tuned_model_id}\")"
   ]
  },
  {
   "cell_type": "code",
   "execution_count": 33,
   "metadata": {},
   "outputs": [
    {
     "name": "stdout",
     "output_type": "stream",
     "text": [
      "Fine-tuning job status: succeeded\n"
     ]
    }
   ],
   "source": [
    "# Check fine-tuning status\n",
    "fine_tune_status = check_fine_tune_status(fine_tuned_model_id)\n",
    "print(f\"Fine-tuning job status: {fine_tune_status}\")"
   ]
  },
  {
   "cell_type": "markdown",
   "metadata": {},
   "source": [
    "# Generating predictions"
   ]
  },
  {
   "cell_type": "code",
   "execution_count": 12,
   "metadata": {},
   "outputs": [
    {
     "name": "stdout",
     "output_type": "stream",
     "text": [
      "Model id: ft:gpt-3.5-turbo-0125:personal::95bowQTT\n"
     ]
    }
   ],
   "source": [
    "#Fetching model ID from fine tuning job:\n",
    "model_id = client.fine_tuning.jobs.retrieve(fine_tuned_model_id).fine_tuned_model\n",
    "print(f'Model id: {model_id}')"
   ]
  },
  {
   "cell_type": "code",
   "execution_count": 11,
   "metadata": {},
   "outputs": [
    {
     "name": "stdout",
     "output_type": "stream",
     "text": [
      "Oh, that’s fantastic! Nothing quite compares to canned laughter and overplayed stereotypes. It’s like the Oscars, but every week!\n"
     ]
    }
   ],
   "source": [
    "# Generating response:\n",
    "test_prompt = \"I like watching sitcoms. What do you think?\"\n",
    "\n",
    "response = generate_response(model_id, test_prompt)\n",
    "print(response)"
   ]
  }
 ],
 "metadata": {
  "kernelspec": {
   "display_name": "Python 3",
   "language": "python",
   "name": "python3"
  },
  "language_info": {
   "codemirror_mode": {
    "name": "ipython",
    "version": 3
   },
   "file_extension": ".py",
   "mimetype": "text/x-python",
   "name": "python",
   "nbconvert_exporter": "python",
   "pygments_lexer": "ipython3",
   "version": "3.12.2"
  }
 },
 "nbformat": 4,
 "nbformat_minor": 2
}
